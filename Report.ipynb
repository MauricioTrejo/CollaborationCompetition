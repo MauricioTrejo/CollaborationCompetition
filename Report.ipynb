{
 "cells": [
  {
   "cell_type": "markdown",
   "metadata": {},
   "source": [
    "# Collaboration and Competition\n",
    "\n",
    "### Introduction\n",
    "\n",
    "In this environment, two agents control rackets to bounce a ball over a net.\n",
    "\n",
    "![IMAGE ALT TEXT](tennis.gif)\n",
    "\n",
    "The observation space consists of 8 variables corresponding to the position and velocity of the ball and racket. Each agent receives its own, local observation. Two continuous actions are available, corresponding to movement toward (or away from) the net, and jumping.\n",
    "\n",
    "If an agent hits the ball over the net, it receives a reward of +0.1. If an agent lets a ball hit the ground or hits the ball out of bounds, it receives a reward of -0.01. Thus, the goal of each agent is to keep the ball in play.\n",
    "\n",
    "The task is episodic, and in order to solve the environment, your agents must get an average score of +0.5 (over 100 consecutive episodes, after taking the maximum over both agents). Specifically,\n",
    "\n",
    "After each episode, we add up the rewards that each agent received (without discounting), to get a score for each agent. This yields 2 (potentially different) scores. We then take the maximum of these 2 scores.\n",
    "This yields a single score for each episode.\n",
    "The environment is considered solved, when the average (over 100 episodes) of those scores is at least +0.5.\n",
    "\n",
    "### 1. Start the Environment\n",
    "\n",
    "Installing necessary packages"
   ]
  },
  {
   "cell_type": "code",
   "execution_count": 1,
   "metadata": {},
   "outputs": [
    {
     "name": "stdout",
     "output_type": "stream",
     "text": [
      "\u001b[31mtensorflow 1.7.1 has requirement numpy>=1.13.3, but you'll have numpy 1.12.1 which is incompatible.\u001b[0m\r\n",
      "\u001b[31mipython 6.5.0 has requirement prompt-toolkit<2.0.0,>=1.0.15, but you'll have prompt-toolkit 3.0.8 which is incompatible.\u001b[0m\r\n"
     ]
    }
   ],
   "source": [
    "!pip -q install ./python"
   ]
  },
  {
   "cell_type": "markdown",
   "metadata": {},
   "source": [
    "Loading necessary packages"
   ]
  },
  {
   "cell_type": "code",
   "execution_count": 2,
   "metadata": {},
   "outputs": [
    {
     "name": "stderr",
     "output_type": "stream",
     "text": [
      "INFO:unityagents:\n",
      "'Academy' started successfully!\n",
      "Unity Academy name: Academy\n",
      "        Number of Brains: 1\n",
      "        Number of External Brains : 1\n",
      "        Lesson number : 0\n",
      "        Reset Parameters :\n",
      "\t\t\n",
      "Unity brain name: TennisBrain\n",
      "        Number of Visual Observations (per agent): 0\n",
      "        Vector Observation space type: continuous\n",
      "        Vector Observation space size (per agent): 8\n",
      "        Number of stacked Vector Observation: 3\n",
      "        Vector Action space type: continuous\n",
      "        Vector Action space size (per agent): 2\n",
      "        Vector Action descriptions: , \n"
     ]
    }
   ],
   "source": [
    "import torch\n",
    "import numpy as np\n",
    "\n",
    "from collections import deque\n",
    "import matplotlib.pyplot as plt\n",
    "%matplotlib inline\n",
    "\n",
    "from agent import Agent\n",
    "\n",
    "from unityagents import UnityEnvironment\n",
    "\n",
    "env = UnityEnvironment(file_name=\"/data/Tennis_Linux_NoVis/Tennis\")"
   ]
  },
  {
   "cell_type": "markdown",
   "metadata": {},
   "source": [
    "Environments contain **_brains_** which are responsible for deciding the actions of their associated agents. Here we check for the first brain available, and set it as the default brain we will be controlling from Python."
   ]
  },
  {
   "cell_type": "code",
   "execution_count": 3,
   "metadata": {},
   "outputs": [],
   "source": [
    "# get the default brain\n",
    "brain_name = env.brain_names[0]\n",
    "brain = env.brains[brain_name]"
   ]
  },
  {
   "cell_type": "markdown",
   "metadata": {},
   "source": [
    "### 2. Examine the State and Action Spaces\n",
    "\n",
    "Obtain information about the environment."
   ]
  },
  {
   "cell_type": "code",
   "execution_count": 4,
   "metadata": {},
   "outputs": [
    {
     "name": "stdout",
     "output_type": "stream",
     "text": [
      "Number of agents: 2\n",
      "Size of each action: 2\n",
      "There are 2 agents. Each observes a state with length: 24\n",
      "The state for the first agent looks like: [ 0.          0.          0.          0.          0.          0.          0.\n",
      "  0.          0.          0.          0.          0.          0.          0.\n",
      "  0.          0.         -6.65278625 -1.5        -0.          0.\n",
      "  6.83172083  6.         -0.          0.        ]\n"
     ]
    }
   ],
   "source": [
    "# reset the environment\n",
    "env_info = env.reset(train_mode=True)[brain_name]\n",
    "\n",
    "# number of agents \n",
    "num_agents = len(env_info.agents)\n",
    "print('Number of agents:', num_agents)\n",
    "\n",
    "# size of each action\n",
    "action_size = brain.vector_action_space_size\n",
    "print('Size of each action:', action_size)\n",
    "\n",
    "# examine the state space \n",
    "states = env_info.vector_observations\n",
    "state_size = states.shape[1]\n",
    "print('There are {} agents. Each observes a state with length: {}'.format(states.shape[0], state_size))\n",
    "print('The state for the first agent looks like:', states[0])"
   ]
  },
  {
   "cell_type": "markdown",
   "metadata": {},
   "source": [
    "### 3. Behavior of untrained agent"
   ]
  },
  {
   "cell_type": "code",
   "execution_count": 5,
   "metadata": {},
   "outputs": [
    {
     "name": "stdout",
     "output_type": "stream",
     "text": [
      "Total score (averaged over agents) this episode: -0.004999999888241291\n",
      "Total score (averaged over agents) this episode: -0.004999999888241291\n",
      "Total score (averaged over agents) this episode: -0.004999999888241291\n",
      "Total score (averaged over agents) this episode: -0.004999999888241291\n",
      "Total score (averaged over agents) this episode: -0.004999999888241291\n"
     ]
    }
   ],
   "source": [
    "for i in range(5):                                         # play game for 5 episodes\n",
    "    env_info = env.reset(train_mode=False)[brain_name]     # reset the environment    \n",
    "    states = env_info.vector_observations                  # get the current state (for each agent)\n",
    "    scores = np.zeros(num_agents)                          # initialize the score (for each agent)\n",
    "    while True:\n",
    "        actions = np.random.randn(num_agents, action_size) # select an action (for each agent)\n",
    "        actions = np.clip(actions, -1, 1)                  # all actions between -1 and 1\n",
    "        env_info = env.step(actions)[brain_name]           # send all actions to tne environment\n",
    "        next_states = env_info.vector_observations         # get next state (for each agent)\n",
    "        rewards = env_info.rewards                         # get reward (for each agent)\n",
    "        dones = env_info.local_done                        # see if episode finished\n",
    "        scores += env_info.rewards                         # update the score (for each agent)\n",
    "        states = next_states                               # roll over states to next time step\n",
    "        if np.any(dones):                                  # exit loop if episode finished\n",
    "            break\n",
    "    print('Total score (averaged over agents) this episode: {}'.format(np.mean(scores)))"
   ]
  },
  {
   "cell_type": "markdown",
   "metadata": {},
   "source": [
    "### 4. Training the agent\n",
    "\n",
    "##### The algorithm\n",
    "The algorithm used in this project was DDPG (Deep Deterministic Policy Gradient). This algortithm learns a Q-function and a policy at the same time. It uses off-policy data and the Bellman equation to learn the Q-function, and uses the Q-function to learn the policy.\n",
    "\n",
    "DDPG is adapted to continuous environments thanks to how we compute the maximum over actions in $max_a Q^*(s,a)$. Since we cannot exhaustively evaluate the space each time we need to compute $max_a Q(s,a)$ we can approximate it with $max_a Q(s,a) \\approx Q(s,\\mu(s))$.\n",
    "\n",
    "Also, is important to note the use of a replay buffer, which is a set of past experiences. The DDPG algorithm sample past experiences from this set in order to learn, the replay buffer should be large enough to contain a significant number of experiences to learn, however, if the buffer is too large the learning process might be  too slow.\n",
    "\n",
    "##### Hyperparameters \n",
    "We used the DDPG algorithm to solve this problem, the agent was capable of solving the environment after 1,300 episodes.\n",
    "\n",
    "Is important to know the hyperparameters used in this algorithm:\n",
    "- Buffer size (100,000) is the capacity of the replay buffer\n",
    "- Batch size (256) is the size of the batch sampled and learned from each iteration\n",
    "- Gamma (0.99) is the discount factor for the rewards\n",
    "- Tau (0.001) is the rate of soft updates of target parameters\n",
    "- Learning rate of actor (0.0001)\n",
    "- Learning rate of critic (0.001)\n",
    "\n",
    "Now, we present the architechture of the actor and the critic\n",
    "\n",
    "##### Actor model\n",
    "In the case of the actor, we used 2 fully connected hidden layers with 128 and 64 units each and ReLU as activation function except for the output layer where we used a tanh activation function.\n",
    "\n",
    "We had 33 inputs (state size) as input to the network and 4 (action size) as output neurons.\n",
    "\n",
    "##### Critic model\n",
    "For the critic, we used 2 fully connected hidden layers with 130 (128 + size of each action) and 64 units each and ReLU as activation function.\n",
    "\n",
    "We had 33 inputs (state size) as input to the network and 1 neuron (for the Q value estiamtion) as output.\n",
    "\n",
    "##### Cold start and stability\n",
    "\n",
    "After several trials, we found that the beginning of the learning process is quite unstable, we think the main reason for this is the lack of enough experiences to learn (cold start problem), since with enough episodes the algorithm is able to solve the environment, in the trails we did the algorithm took between 1,000 and 4,000 episodes to solve the environment. We present in this notebook one of the fastest trials."
   ]
  },
  {
   "cell_type": "code",
   "execution_count": 6,
   "metadata": {},
   "outputs": [],
   "source": [
    "def maddpg(n_episodes = 4000, max_t = 1000, print_every = 100):\n",
    "    scores_deque = deque(maxlen=print_every)\n",
    "    scores = []\n",
    "    for i_episode in range(1, n_episodes+1):\n",
    "        env_info = env.reset(train_mode=True)[brain_name]   # Reset the environment  \n",
    "        states = env_info.vector_observations               # Get the current state\n",
    "        scores_agents = np.zeros(num_agents)\n",
    "        score = 0\n",
    "        agent.reset()\n",
    "        for t in range(max_t):\n",
    "            actions = agent.act(states)                               # Select an action\n",
    "            env_info = env.step(actions)[brain_name]                  # Send the action to tne environment\n",
    "            next_states = env_info.vector_observations                # Get the next state\n",
    "            rewards = env_info.rewards                                # Get the reward    \n",
    "            dones = env_info.local_done                               # See if episode has finished\n",
    "            agent.step(states, actions, rewards, next_states, dones)  # Step and learning process\n",
    "            scores_agents += rewards\n",
    "            states = next_states\n",
    "            if np.any(dones):\n",
    "                break \n",
    "        score = np.max(scores_agents)\n",
    "        scores_deque.append(score)\n",
    "        scores.append(score)\n",
    "        print('\\rEpisode {}\\tAverage Score: {:.4f}'.format(i_episode, np.mean(scores_deque)), end=\"\")\n",
    "        torch.save(agent.actor_local.state_dict(), 'checkpoint_actor.pth')\n",
    "        torch.save(agent.critic_local.state_dict(), 'checkpoint_critic.pth')\n",
    "        if i_episode % print_every == 0:\n",
    "            print('\\rEpisode {}\\tAverage Score: {:.4f}'.format(i_episode, np.mean(scores_deque)))\n",
    "        if np.mean(scores_deque) >= 0.5:\n",
    "            print('\\rThe average score over the last 100 episodes was: {:.4f}'.format(np.mean(scores_deque)))\n",
    "            break\n",
    "            \n",
    "    return scores"
   ]
  },
  {
   "cell_type": "code",
   "execution_count": 7,
   "metadata": {},
   "outputs": [
    {
     "name": "stdout",
     "output_type": "stream",
     "text": [
      "Episode 100\tAverage Score: 0.0030\n",
      "Episode 200\tAverage Score: 0.0000\n",
      "Episode 300\tAverage Score: 0.0088\n",
      "Episode 400\tAverage Score: 0.0029\n",
      "Episode 500\tAverage Score: 0.0134\n",
      "Episode 600\tAverage Score: 0.0105\n",
      "Episode 700\tAverage Score: 0.0360\n",
      "Episode 800\tAverage Score: 0.0650\n",
      "Episode 900\tAverage Score: 0.0841\n",
      "Episode 1000\tAverage Score: 0.1004\n",
      "Episode 1100\tAverage Score: 0.1167\n",
      "Episode 1200\tAverage Score: 0.3123\n",
      "The average score over the last 100 episodes was: 0.5082\n"
     ]
    },
    {
     "data": {
      "image/png": "[encoded data removed]",
      "text/plain": [
       "<matplotlib.figure.Figure at 0x7f674cc761d0>"
      ]
     },
     "metadata": {
      "needs_background": "light"
     },
     "output_type": "display_data"
    }
   ],
   "source": [
    "agent = Agent(state_size = state_size, action_size = action_size, random_seed = 17)\n",
    "scores = maddpg()\n",
    "\n",
    "fig = plt.figure()\n",
    "ax = fig.add_subplot(111)\n",
    "plt.plot(np.arange(1, len(scores)+1), scores)\n",
    "plt.ylabel('Score')\n",
    "plt.xlabel('Episode #')\n",
    "plt.show()"
   ]
  },
  {
   "cell_type": "code",
   "execution_count": 10,
   "metadata": {},
   "outputs": [
    {
     "data": {
      "image/png": "[encoded data removed]",
      "text/plain": [
       "<matplotlib.figure.Figure at 0x7f66f859d390>"
      ]
     },
     "metadata": {
      "needs_background": "light"
     },
     "output_type": "display_data"
    }
   ],
   "source": [
    "ma_scores = []\n",
    "for i in range(1200):\n",
    "    ma_scores.append(np.mean(scores[i:i+100]))\n",
    "    \n",
    "fig = plt.figure()\n",
    "ax = fig.add_subplot(111)\n",
    "plt.plot(np.arange(1, len(ma_scores)+1), ma_scores)\n",
    "plt.ylabel('Score')\n",
    "plt.xlabel('Episode #')\n",
    "plt.show()"
   ]
  },
  {
   "cell_type": "markdown",
   "metadata": {},
   "source": [
    "### 5. Behavior of trained agent"
   ]
  },
  {
   "cell_type": "code",
   "execution_count": 11,
   "metadata": {},
   "outputs": [
    {
     "name": "stdout",
     "output_type": "stream",
     "text": [
      "Total score (averaged over agents) this episode: 0.09500000160187483\n",
      "Total score (averaged over agents) this episode: 0.19500000309199095\n",
      "Total score (averaged over agents) this episode: -0.004999999888241291\n",
      "Total score (averaged over agents) this episode: 0.29500000458210707\n",
      "Total score (averaged over agents) this episode: 2.3450000351294875\n"
     ]
    }
   ],
   "source": [
    "for i in range(5):                                         # Play game for 5 episodes\n",
    "    env_info = env.reset(train_mode=False)[brain_name]     # Reset the environment    \n",
    "    states = env_info.vector_observations                  # Get the current state (for each agent)\n",
    "    scores = np.zeros(num_agents)                          # Initialize the score (for each agent)\n",
    "    while True:\n",
    "        actions = actions = agent.act(states)              # Select an action (for each agent)\n",
    "        env_info = env.step(actions)[brain_name]           # Send all actions to tne environment\n",
    "        next_states = env_info.vector_observations         # Get next state (for each agent)\n",
    "        rewards = env_info.rewards                         # Get reward (for each agent)\n",
    "        dones = env_info.local_done                        # See if episode finished\n",
    "        scores += env_info.rewards                         # Update the score (for each agent)\n",
    "        states = next_states                               # Roll over states to next time step\n",
    "        if np.any(dones):                                  # Exit loop if episode finished\n",
    "            break\n",
    "    print('Total score (averaged over agents) this episode: {}'.format(np.mean(scores)))"
   ]
  },
  {
   "cell_type": "code",
   "execution_count": 12,
   "metadata": {},
   "outputs": [],
   "source": [
    "env.close()"
   ]
  },
  {
   "cell_type": "markdown",
   "metadata": {},
   "source": [
    "### 6. Ideas for Future work"
   ]
  },
  {
   "cell_type": "markdown",
   "metadata": {},
   "source": [
    "1. Creating 2 actors and 2 critics mights improve the speed of performance.\n",
    "2. Monte Carlo Tree Search can improve the speed and stability of learning."
   ]
  },
  {
   "cell_type": "code",
   "execution_count": null,
   "metadata": {},
   "outputs": [],
   "source": []
  }
 ],
 "metadata": {
  "kernelspec": {
   "display_name": "Python 3",
   "language": "python",
   "name": "python3"
  },
  "language_info": {
   "codemirror_mode": {
    "name": "ipython",
    "version": 3
   },
   "file_extension": ".py",
   "mimetype": "text/x-python",
   "name": "python",
   "nbconvert_exporter": "python",
   "pygments_lexer": "ipython3",
   "version": "3.6.12"
  }
 },
 "nbformat": 4,
 "nbformat_minor": 2
}
